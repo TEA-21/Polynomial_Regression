{
  "nbformat": 4,
  "nbformat_minor": 0,
  "metadata": {
    "colab": {
      "provenance": [],
      "include_colab_link": true
    },
    "kernelspec": {
      "name": "python3",
      "display_name": "Python 3"
    },
    "language_info": {
      "name": "python"
    }
  },
  "cells": [
    {
      "cell_type": "markdown",
      "metadata": {
        "id": "view-in-github",
        "colab_type": "text"
      },
      "source": [
        "<a href=\"https://colab.research.google.com/github/TEA-21/Polynomial_Regression/blob/main/Main.ipynb\" target=\"_parent\"><img src=\"https://colab.research.google.com/assets/colab-badge.svg\" alt=\"Open In Colab\"/></a>"
      ]
    },
    {
      "cell_type": "markdown",
      "metadata": {
        "id": "erYQyGJOT0Ya"
      },
      "source": [
        "### Instructions"
      ]
    },
    {
      "cell_type": "markdown",
      "metadata": {
        "id": "bEyBzxYRhrLG"
      },
      "source": [
        "#### Goal of the Project\n",
        "\n",
        "This project is designed for you to practice and solve the activities that are based on the concepts covered in the lessons:\n",
        "\n",
        "- Polynomial Regression - Polynomials\n",
        "\n",
        "- Polynomial Regression - Underfitting"
      ]
    },
    {
      "cell_type": "markdown",
      "metadata": {
        "id": "pIrCR0_QMp18"
      },
      "source": [
        "---"
      ]
    },
    {
      "cell_type": "markdown",
      "metadata": {
        "id": "oHEruqrlZewu"
      },
      "source": [
        "#### Problem Statement\n",
        "\n",
        "In this project, you are going to build a Regression model to predict the **Pressure** in a region by analysing the **Temperature** value."
      ]
    },
    {
      "cell_type": "markdown",
      "metadata": {
        "id": "qIVNEyp4Mrem"
      },
      "source": [
        "---"
      ]
    },
    {
      "cell_type": "markdown",
      "metadata": {
        "id": "2LpOy28nkFG_"
      },
      "source": [
        "### Dataset Description\n",
        "\n",
        "This dataset is a custom dataset with random sensible values of **Temperature** and **Pressure**. In a closed system where volume is held constant, there is a direct relationship between Pressure and Temperature. In a direct relationship, when the pressure increases then the temperature also increases. When the pressure decreases, then the temperature decreases.\n",
        "\n",
        "The dataset includes 6 instances with 1 feature and 1 target column (`Pressure`).\n",
        "\n",
        "|Field|Description|\n",
        "|---:|:---|\n",
        "|sno|Row number|\n",
        "|Temperature|Temperature of the region (in Fahrenheit)|\n",
        "|Pressure|Pressure in that region (in pascal)|"
      ]
    },
    {
      "cell_type": "markdown",
      "metadata": {
        "id": "83FgC947OzV4"
      },
      "source": [
        "---"
      ]
    },
    {
      "cell_type": "markdown",
      "metadata": {
        "id": "dkkg2QzEu3lP"
      },
      "source": [
        "### List of Activities\n",
        "\n",
        "**Activity 1:** Importing Modules and Reading Data\n",
        "\n",
        "**Activity 2:** Build the Linear Regression Model\n",
        "  \n",
        "**Activity 3:** Visualise the Linear Regression Model\n",
        "\n",
        "**Activity 4:** Build the Polynomial Regression Model\n",
        "\n",
        "**Activity 5:** Visualise the Polynomial Regression Model"
      ]
    },
    {
      "cell_type": "markdown",
      "metadata": {
        "id": "eUc0Lq-HlQ3O"
      },
      "source": [
        "---"
      ]
    },
    {
      "cell_type": "markdown",
      "metadata": {
        "id": "DQSgqaR1lire"
      },
      "source": [
        "#### Activity 1: Importing Modules and Reading Data\n",
        "\n",
        "In this activity, you have to import the data from the link given for the csv file:\n",
        "\n",
        "1. Import the necessary Python modules.\n",
        "\n",
        "2. Read the data from a CSV file to create a Pandas DataFrame\n",
        "\n",
        "3. Go through the necessary data-cleaning process (if required).\n",
        "\n",
        "**Dataset Link:** https://s3-whjr-curriculum-uploads.whjr.online/e41b5e92-0d04-4afa-89d7-3a05ae74feec.csv"
      ]
    },
    {
      "cell_type": "code",
      "metadata": {
        "id": "4AWWc0FxkxCq",
        "colab": {
          "base_uri": "https://localhost:8080/",
          "height": 206
        },
        "outputId": "65b82c3c-5725-49cb-84a5-b7eb81e828cc"
      },
      "source": [
        "# Load the Dataset\n",
        "\n",
        "# Import the modules\n",
        "import pandas as pd\n",
        "import numpy as np\n",
        "from sklearn.linear_model import LinearRegression\n",
        "from sklearn.preprocessing import PolynomialFeatures\n",
        "from sklearn.metrics import r2_score\n",
        "import matplotlib.pyplot as plt\n",
        "\n",
        "df=pd.read_csv('https://s3-whjr-curriculum-uploads.whjr.online/e41b5e92-0d04-4afa-89d7-3a05ae74feec.csv')\n",
        "df.head()\n",
        "# Create the DataFame\n",
        "\n",
        "\n",
        "# Print the DataFrame\n"
      ],
      "execution_count": null,
      "outputs": [
        {
          "output_type": "execute_result",
          "data": {
            "text/plain": [
              "   sno  Temperature  Pressure\n",
              "0    1            0    0.0002\n",
              "1    2           20    0.0012\n",
              "2    3           40    0.0060\n",
              "3    4           60    0.0300\n",
              "4    5           80    0.0900"
            ],
            "text/html": [
              "\n",
              "  <div id=\"df-ffbbecfa-0c89-47b1-98dc-540f6347bc52\" class=\"colab-df-container\">\n",
              "    <div>\n",
              "<style scoped>\n",
              "    .dataframe tbody tr th:only-of-type {\n",
              "        vertical-align: middle;\n",
              "    }\n",
              "\n",
              "    .dataframe tbody tr th {\n",
              "        vertical-align: top;\n",
              "    }\n",
              "\n",
              "    .dataframe thead th {\n",
              "        text-align: right;\n",
              "    }\n",
              "</style>\n",
              "<table border=\"1\" class=\"dataframe\">\n",
              "  <thead>\n",
              "    <tr style=\"text-align: right;\">\n",
              "      <th></th>\n",
              "      <th>sno</th>\n",
              "      <th>Temperature</th>\n",
              "      <th>Pressure</th>\n",
              "    </tr>\n",
              "  </thead>\n",
              "  <tbody>\n",
              "    <tr>\n",
              "      <th>0</th>\n",
              "      <td>1</td>\n",
              "      <td>0</td>\n",
              "      <td>0.0002</td>\n",
              "    </tr>\n",
              "    <tr>\n",
              "      <th>1</th>\n",
              "      <td>2</td>\n",
              "      <td>20</td>\n",
              "      <td>0.0012</td>\n",
              "    </tr>\n",
              "    <tr>\n",
              "      <th>2</th>\n",
              "      <td>3</td>\n",
              "      <td>40</td>\n",
              "      <td>0.0060</td>\n",
              "    </tr>\n",
              "    <tr>\n",
              "      <th>3</th>\n",
              "      <td>4</td>\n",
              "      <td>60</td>\n",
              "      <td>0.0300</td>\n",
              "    </tr>\n",
              "    <tr>\n",
              "      <th>4</th>\n",
              "      <td>5</td>\n",
              "      <td>80</td>\n",
              "      <td>0.0900</td>\n",
              "    </tr>\n",
              "  </tbody>\n",
              "</table>\n",
              "</div>\n",
              "    <div class=\"colab-df-buttons\">\n",
              "\n",
              "  <div class=\"colab-df-container\">\n",
              "    <button class=\"colab-df-convert\" onclick=\"convertToInteractive('df-ffbbecfa-0c89-47b1-98dc-540f6347bc52')\"\n",
              "            title=\"Convert this dataframe to an interactive table.\"\n",
              "            style=\"display:none;\">\n",
              "\n",
              "  <svg xmlns=\"http://www.w3.org/2000/svg\" height=\"24px\" viewBox=\"0 -960 960 960\">\n",
              "    <path d=\"M120-120v-720h720v720H120Zm60-500h600v-160H180v160Zm220 220h160v-160H400v160Zm0 220h160v-160H400v160ZM180-400h160v-160H180v160Zm440 0h160v-160H620v160ZM180-180h160v-160H180v160Zm440 0h160v-160H620v160Z\"/>\n",
              "  </svg>\n",
              "    </button>\n",
              "\n",
              "  <style>\n",
              "    .colab-df-container {\n",
              "      display:flex;\n",
              "      gap: 12px;\n",
              "    }\n",
              "\n",
              "    .colab-df-convert {\n",
              "      background-color: #E8F0FE;\n",
              "      border: none;\n",
              "      border-radius: 50%;\n",
              "      cursor: pointer;\n",
              "      display: none;\n",
              "      fill: #1967D2;\n",
              "      height: 32px;\n",
              "      padding: 0 0 0 0;\n",
              "      width: 32px;\n",
              "    }\n",
              "\n",
              "    .colab-df-convert:hover {\n",
              "      background-color: #E2EBFA;\n",
              "      box-shadow: 0px 1px 2px rgba(60, 64, 67, 0.3), 0px 1px 3px 1px rgba(60, 64, 67, 0.15);\n",
              "      fill: #174EA6;\n",
              "    }\n",
              "\n",
              "    .colab-df-buttons div {\n",
              "      margin-bottom: 4px;\n",
              "    }\n",
              "\n",
              "    [theme=dark] .colab-df-convert {\n",
              "      background-color: #3B4455;\n",
              "      fill: #D2E3FC;\n",
              "    }\n",
              "\n",
              "    [theme=dark] .colab-df-convert:hover {\n",
              "      background-color: #434B5C;\n",
              "      box-shadow: 0px 1px 3px 1px rgba(0, 0, 0, 0.15);\n",
              "      filter: drop-shadow(0px 1px 2px rgba(0, 0, 0, 0.3));\n",
              "      fill: #FFFFFF;\n",
              "    }\n",
              "  </style>\n",
              "\n",
              "    <script>\n",
              "      const buttonEl =\n",
              "        document.querySelector('#df-ffbbecfa-0c89-47b1-98dc-540f6347bc52 button.colab-df-convert');\n",
              "      buttonEl.style.display =\n",
              "        google.colab.kernel.accessAllowed ? 'block' : 'none';\n",
              "\n",
              "      async function convertToInteractive(key) {\n",
              "        const element = document.querySelector('#df-ffbbecfa-0c89-47b1-98dc-540f6347bc52');\n",
              "        const dataTable =\n",
              "          await google.colab.kernel.invokeFunction('convertToInteractive',\n",
              "                                                    [key], {});\n",
              "        if (!dataTable) return;\n",
              "\n",
              "        const docLinkHtml = 'Like what you see? Visit the ' +\n",
              "          '<a target=\"_blank\" href=https://colab.research.google.com/notebooks/data_table.ipynb>data table notebook</a>'\n",
              "          + ' to learn more about interactive tables.';\n",
              "        element.innerHTML = '';\n",
              "        dataTable['output_type'] = 'display_data';\n",
              "        await google.colab.output.renderOutput(dataTable, element);\n",
              "        const docLink = document.createElement('div');\n",
              "        docLink.innerHTML = docLinkHtml;\n",
              "        element.appendChild(docLink);\n",
              "      }\n",
              "    </script>\n",
              "  </div>\n",
              "\n",
              "\n",
              "<div id=\"df-4f2b466f-7e2e-4de7-8e2b-8e18ec0e6689\">\n",
              "  <button class=\"colab-df-quickchart\" onclick=\"quickchart('df-4f2b466f-7e2e-4de7-8e2b-8e18ec0e6689')\"\n",
              "            title=\"Suggest charts\"\n",
              "            style=\"display:none;\">\n",
              "\n",
              "<svg xmlns=\"http://www.w3.org/2000/svg\" height=\"24px\"viewBox=\"0 0 24 24\"\n",
              "     width=\"24px\">\n",
              "    <g>\n",
              "        <path d=\"M19 3H5c-1.1 0-2 .9-2 2v14c0 1.1.9 2 2 2h14c1.1 0 2-.9 2-2V5c0-1.1-.9-2-2-2zM9 17H7v-7h2v7zm4 0h-2V7h2v10zm4 0h-2v-4h2v4z\"/>\n",
              "    </g>\n",
              "</svg>\n",
              "  </button>\n",
              "\n",
              "<style>\n",
              "  .colab-df-quickchart {\n",
              "      --bg-color: #E8F0FE;\n",
              "      --fill-color: #1967D2;\n",
              "      --hover-bg-color: #E2EBFA;\n",
              "      --hover-fill-color: #174EA6;\n",
              "      --disabled-fill-color: #AAA;\n",
              "      --disabled-bg-color: #DDD;\n",
              "  }\n",
              "\n",
              "  [theme=dark] .colab-df-quickchart {\n",
              "      --bg-color: #3B4455;\n",
              "      --fill-color: #D2E3FC;\n",
              "      --hover-bg-color: #434B5C;\n",
              "      --hover-fill-color: #FFFFFF;\n",
              "      --disabled-bg-color: #3B4455;\n",
              "      --disabled-fill-color: #666;\n",
              "  }\n",
              "\n",
              "  .colab-df-quickchart {\n",
              "    background-color: var(--bg-color);\n",
              "    border: none;\n",
              "    border-radius: 50%;\n",
              "    cursor: pointer;\n",
              "    display: none;\n",
              "    fill: var(--fill-color);\n",
              "    height: 32px;\n",
              "    padding: 0;\n",
              "    width: 32px;\n",
              "  }\n",
              "\n",
              "  .colab-df-quickchart:hover {\n",
              "    background-color: var(--hover-bg-color);\n",
              "    box-shadow: 0 1px 2px rgba(60, 64, 67, 0.3), 0 1px 3px 1px rgba(60, 64, 67, 0.15);\n",
              "    fill: var(--button-hover-fill-color);\n",
              "  }\n",
              "\n",
              "  .colab-df-quickchart-complete:disabled,\n",
              "  .colab-df-quickchart-complete:disabled:hover {\n",
              "    background-color: var(--disabled-bg-color);\n",
              "    fill: var(--disabled-fill-color);\n",
              "    box-shadow: none;\n",
              "  }\n",
              "\n",
              "  .colab-df-spinner {\n",
              "    border: 2px solid var(--fill-color);\n",
              "    border-color: transparent;\n",
              "    border-bottom-color: var(--fill-color);\n",
              "    animation:\n",
              "      spin 1s steps(1) infinite;\n",
              "  }\n",
              "\n",
              "  @keyframes spin {\n",
              "    0% {\n",
              "      border-color: transparent;\n",
              "      border-bottom-color: var(--fill-color);\n",
              "      border-left-color: var(--fill-color);\n",
              "    }\n",
              "    20% {\n",
              "      border-color: transparent;\n",
              "      border-left-color: var(--fill-color);\n",
              "      border-top-color: var(--fill-color);\n",
              "    }\n",
              "    30% {\n",
              "      border-color: transparent;\n",
              "      border-left-color: var(--fill-color);\n",
              "      border-top-color: var(--fill-color);\n",
              "      border-right-color: var(--fill-color);\n",
              "    }\n",
              "    40% {\n",
              "      border-color: transparent;\n",
              "      border-right-color: var(--fill-color);\n",
              "      border-top-color: var(--fill-color);\n",
              "    }\n",
              "    60% {\n",
              "      border-color: transparent;\n",
              "      border-right-color: var(--fill-color);\n",
              "    }\n",
              "    80% {\n",
              "      border-color: transparent;\n",
              "      border-right-color: var(--fill-color);\n",
              "      border-bottom-color: var(--fill-color);\n",
              "    }\n",
              "    90% {\n",
              "      border-color: transparent;\n",
              "      border-bottom-color: var(--fill-color);\n",
              "    }\n",
              "  }\n",
              "</style>\n",
              "\n",
              "  <script>\n",
              "    async function quickchart(key) {\n",
              "      const quickchartButtonEl =\n",
              "        document.querySelector('#' + key + ' button');\n",
              "      quickchartButtonEl.disabled = true;  // To prevent multiple clicks.\n",
              "      quickchartButtonEl.classList.add('colab-df-spinner');\n",
              "      try {\n",
              "        const charts = await google.colab.kernel.invokeFunction(\n",
              "            'suggestCharts', [key], {});\n",
              "      } catch (error) {\n",
              "        console.error('Error during call to suggestCharts:', error);\n",
              "      }\n",
              "      quickchartButtonEl.classList.remove('colab-df-spinner');\n",
              "      quickchartButtonEl.classList.add('colab-df-quickchart-complete');\n",
              "    }\n",
              "    (() => {\n",
              "      let quickchartButtonEl =\n",
              "        document.querySelector('#df-4f2b466f-7e2e-4de7-8e2b-8e18ec0e6689 button');\n",
              "      quickchartButtonEl.style.display =\n",
              "        google.colab.kernel.accessAllowed ? 'block' : 'none';\n",
              "    })();\n",
              "  </script>\n",
              "</div>\n",
              "\n",
              "    </div>\n",
              "  </div>\n"
            ],
            "application/vnd.google.colaboratory.intrinsic+json": {
              "type": "dataframe",
              "summary": "{\n  \"name\": \"# Print the DataFrame\",\n  \"rows\": 5,\n  \"fields\": [\n    {\n      \"column\": \"sno\",\n      \"properties\": {\n        \"dtype\": \"number\",\n        \"std\": 1,\n        \"min\": 1,\n        \"max\": 5,\n        \"num_unique_values\": 5,\n        \"samples\": [\n          2,\n          5,\n          3\n        ],\n        \"semantic_type\": \"\",\n        \"description\": \"\"\n      }\n    },\n    {\n      \"column\": \"Temperature\",\n      \"properties\": {\n        \"dtype\": \"number\",\n        \"std\": 31,\n        \"min\": 0,\n        \"max\": 80,\n        \"num_unique_values\": 5,\n        \"samples\": [\n          20,\n          80,\n          40\n        ],\n        \"semantic_type\": \"\",\n        \"description\": \"\"\n      }\n    },\n    {\n      \"column\": \"Pressure\",\n      \"properties\": {\n        \"dtype\": \"number\",\n        \"std\": 0.03805038764585717,\n        \"min\": 0.0002,\n        \"max\": 0.09,\n        \"num_unique_values\": 5,\n        \"samples\": [\n          0.0012,\n          0.09,\n          0.006\n        ],\n        \"semantic_type\": \"\",\n        \"description\": \"\"\n      }\n    }\n  ]\n}"
            }
          },
          "metadata": {},
          "execution_count": 3
        }
      ]
    },
    {
      "cell_type": "markdown",
      "metadata": {
        "id": "RnpWDnun-lG8"
      },
      "source": [
        "Divide the Datasets into two components `X` and `y`. `X` will contain the `Temperature` column and `y` will contain the `Pressure` column."
      ]
    },
    {
      "cell_type": "code",
      "metadata": {
        "id": "QZzGXdhA_3Gk"
      },
      "source": [
        "# Divide the Datasets into two components X and y using the 'iloc[]' function.\n",
        "x=df.iloc[:,1:2]\n",
        "y=df.iloc[:,2]"
      ],
      "execution_count": null,
      "outputs": []
    },
    {
      "cell_type": "markdown",
      "metadata": {
        "id": "TGgx138vBjPW"
      },
      "source": [
        "---"
      ]
    },
    {
      "cell_type": "markdown",
      "metadata": {
        "id": "VfUqbeDihv7Z"
      },
      "source": [
        "#### Activity 2: Build the Linear Regression Model\n",
        "\n",
        "In this activity, you need to build and fit a Linear Regression model to this dataset.\n",
        "\n",
        "Evaluate the accuracy of this model with the $R^2$  score and plot the predicted values for `X`.\n",
        "\n",
        "1. Create an object (say `lin_reg`) of the `LinearRegression()` constructor.\n",
        "\n",
        "2. Call the `fit()` function on the above constructor with train feature `X` (`Temperature`) and target variable `y` (`Pressure`) as inputs.\n",
        "\n",
        "3. Get the predicted target values by calling the `predict()` function on `X`.\n",
        "\n",
        "4. Get the accuracy score with the $R^2$  score."
      ]
    },
    {
      "cell_type": "code",
      "metadata": {
        "id": "40j5qC1viFSe",
        "colab": {
          "base_uri": "https://localhost:8080/"
        },
        "outputId": "a669bd81-c848-477f-db7e-167056a8f739"
      },
      "source": [
        "# Build the Linear Regression Model\n",
        "lr=LinearRegression()\n",
        "lr.fit(x,y)\n",
        "y_pred=lr.predict(x)\n",
        "print(r2_score(y,y_pred))\n",
        "# Create the Linear Regression object\n",
        "\n",
        "\n",
        "# Fit Linear Regression to the dataset and make predictions\n",
        "\n",
        "\n",
        "# Evaluate the accuracy score with R^2 sore.\n"
      ],
      "execution_count": null,
      "outputs": [
        {
          "output_type": "stream",
          "name": "stdout",
          "text": [
            "0.690349972603981\n"
          ]
        }
      ]
    },
    {
      "cell_type": "markdown",
      "metadata": {
        "id": "9K_W9Dq165kC"
      },
      "source": [
        "**Q**: What is the accuracy score of the Linear Regression model?\n",
        "\n",
        "**A**: 0.69 (approximately 69%)."
      ]
    },
    {
      "cell_type": "markdown",
      "metadata": {
        "id": "kkbVVjNX_NIS"
      },
      "source": [
        "---"
      ]
    },
    {
      "cell_type": "markdown",
      "metadata": {
        "id": "41LyOGU27PIR"
      },
      "source": [
        "####Activity 3: Visualise the Linear Regression Model\n",
        "\n",
        "Visualise the Linear Regression results using a scatter plot by passing `X` and `y` inside the `scatter()` function.\n",
        "\n",
        "Also, plot the regression line by passing `X` and `y_pred` inside the `plot()` function."
      ]
    },
    {
      "cell_type": "code",
      "metadata": {
        "id": "gyDGUbbi3Hs_",
        "colab": {
          "base_uri": "https://localhost:8080/",
          "height": 619
        },
        "outputId": "4dbfe1dc-110a-4682-fab9-928fc8b75774"
      },
      "source": [
        "# Visualise the Linear Regression results using a scatter plot.\n",
        "plt.figure(figsize=(13,7))\n",
        "plt.scatter(x,y)\n",
        "plt.plot(x,y_pred)\n",
        "plt.xlabel('x')\n",
        "plt.ylabel('y')\n",
        "plt.show()"
      ],
      "execution_count": null,
      "outputs": [
        {
          "output_type": "display_data",
          "data": {
            "text/plain": [
              "<Figure size 1300x700 with 1 Axes>"
            ],
            "image/png": "[encoded data removed]"
          },
          "metadata": {}
        }
      ]
    },
    {
      "cell_type": "markdown",
      "metadata": {
        "id": "EkOdt9LRHnnD"
      },
      "source": [
        "Write your observation from the graph.\n",
        "\n",
        "The predicted values does not seem to be accurate to the original values."
      ]
    },
    {
      "cell_type": "markdown",
      "metadata": {
        "id": "MMG-0TpvcB8C"
      },
      "source": [
        "---"
      ]
    },
    {
      "cell_type": "markdown",
      "metadata": {
        "id": "R6erqVCuSk7s"
      },
      "source": [
        "#### Activity 4: Build the Polynomial Regression Model\n",
        "\n",
        "In this activity, you need to build and fit a Polynomial Regression model to this dataset. Also, evaluate the accuracy of this model with the $R^2$  score and plot the predicted values for `X`.\n",
        "\n",
        "1. Create an object (say `poly`) of the `PolynomialFeatures()` constructor with degree `4`.\n",
        "\n",
        "2. Call the `fit_transform()` function on the above constructor with train feature `X` (`Temperature`) as input. Store it in a variable `X_poly`.\n",
        "\n",
        "3. Call the `fit()` function on the `LinearRegression()` constructor with train feature `X_poly` (`Temperature`) and target variable `y` (`Pressure`) as inputs.\n",
        "\n",
        "4. Get the predicted target values by calling the `predict()` function on `X`.\n",
        "\n",
        "5. Get the accuracy score with the $R^2$  score."
      ]
    },
    {
      "cell_type": "code",
      "metadata": {
        "id": "k0KVjYM-Ss_N",
        "colab": {
          "base_uri": "https://localhost:8080/"
        },
        "outputId": "a94c5099-736a-4dbe-85b9-08b11b7261f4"
      },
      "source": [
        "# Fit Polynomial Regression to the dataset\n",
        "# Create an object (say 'poly') of the 'PolynomialFeatures()' constructor with degree '4'\n",
        "\n",
        "# Call the 'fit_transform()' function on the above constructor with train feature X as input\n",
        "# Store it in a variable 'X_poly'\n",
        "pf=PolynomialFeatures(degree=4)\n",
        "x_poly=pf.fit_transform(x)\n",
        "lr=LinearRegression()\n",
        "lr.fit(x_poly,y)\n",
        "y_pred=lr.predict(x_poly)\n",
        "print(r2_score(y,y_pred))\n",
        "\n",
        "# Call the 'fit()' function on the 'LinearRegression()' constructor with 'X_poly' and 'y' as inputs\n",
        "\n",
        "\n",
        "# Get the predicted target values by calling the 'predict()' function on 'X'\n",
        "\n",
        "# Get the accuracy score with the  𝑅^2  score.\n"
      ],
      "execution_count": null,
      "outputs": [
        {
          "output_type": "stream",
          "name": "stdout",
          "text": [
            "0.9996910780718014\n"
          ]
        }
      ]
    },
    {
      "cell_type": "markdown",
      "metadata": {
        "id": "LXFLSC2VXnZt"
      },
      "source": [
        "**Q**: What is the accuracy score of the Linear Regression model?\n",
        "\n",
        "**A**: 0.99 (approximately 99%)."
      ]
    },
    {
      "cell_type": "markdown",
      "metadata": {
        "id": "o7r3JNqPXn8l"
      },
      "source": [
        "---"
      ]
    },
    {
      "cell_type": "markdown",
      "metadata": {
        "id": "Tup1PeyRTemW"
      },
      "source": [
        "#### Activity 5: Visualise the Polynomial Regression Model.\n",
        "\n",
        "In this acitivty, you have to visualise the Polynomial Regression results using a scatter plot by passing `X` and `y` inside the `scatter()` function. Also, plot the regression line by passing `X` and `y_pred_poly` inside the `plot()` function."
      ]
    },
    {
      "cell_type": "code",
      "metadata": {
        "id": "v6ogW3p3Tgbp",
        "colab": {
          "base_uri": "https://localhost:8080/",
          "height": 619
        },
        "outputId": "d570c8d4-fba0-44f9-8048-04436421cc99"
      },
      "source": [
        "# Visualise the Polynomial Regression results using a scatter plot\n",
        "plt.figure(figsize=(13,7))\n",
        "plt.scatter(x,y)\n",
        "plt.plot(x,y_pred)\n",
        "plt.xlabel('x')\n",
        "plt.ylabel('y')\n",
        "plt.show()"
      ],
      "execution_count": null,
      "outputs": [
        {
          "output_type": "display_data",
          "data": {
            "text/plain": [
              "<Figure size 1300x700 with 1 Axes>"
            ],
            "image/png": "[encoded data removed]"
          },
          "metadata": {}
        }
      ]
    },
    {
      "cell_type": "markdown",
      "metadata": {
        "id": "DE7kQlnSQmey"
      },
      "source": [
        "**Hint** You can use th steps mentioned in above in Activity 3."
      ]
    },
    {
      "cell_type": "markdown",
      "metadata": {
        "id": "IyjTRA_kYNoJ"
      },
      "source": [
        "**Q:** Write down the advantages of using Polynomial Regression.\n",
        "\n",
        "**A:** The advantages of using Polynomial Regression:\n",
        "- The broad range of functions can be fit under it.\n",
        "\n",
        "- Polynomial Regression fits a wide range of curvature.\n",
        "\n",
        "- Polynomial Regression provides the best approximation of the relationship between dependent and independent variables."
      ]
    },
    {
      "cell_type": "markdown",
      "metadata": {
        "id": "ih-JZeimSkXt"
      },
      "source": [
        "---"
      ]
    }
  ]
}